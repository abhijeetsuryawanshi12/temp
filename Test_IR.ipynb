{
  "nbformat": 4,
  "nbformat_minor": 0,
  "metadata": {
    "colab": {
      "provenance": []
    },
    "kernelspec": {
      "name": "python3",
      "display_name": "Python 3"
    },
    "language_info": {
      "name": "python"
    }
  },
  "cells": [
    {
      "cell_type": "markdown",
      "source": [
        "#P-1"
      ],
      "metadata": {
        "id": "OujNi4dOCjjF"
      }
    },
    {
      "cell_type": "code",
      "execution_count": 1,
      "metadata": {
        "id": "nTVymbmb6Ukx"
      },
      "outputs": [],
      "source": [
        "import nltk\n",
        "from nltk.corpus import stopwords\n",
        "from nltk.stem import PorterStemmer\n",
        "import string"
      ]
    },
    {
      "cell_type": "code",
      "source": [
        "nltk.download(\"punkt\")\n",
        "nltk.download(\"stopwords\")"
      ],
      "metadata": {
        "colab": {
          "base_uri": "https://localhost:8080/"
        },
        "id": "OEkutOFi6g-H",
        "outputId": "3792b265-60c3-4f3f-f018-d0527e2e277b"
      },
      "execution_count": 2,
      "outputs": [
        {
          "output_type": "stream",
          "name": "stderr",
          "text": [
            "[nltk_data] Downloading package punkt to /root/nltk_data...\n",
            "[nltk_data]   Unzipping tokenizers/punkt.zip.\n",
            "[nltk_data] Downloading package stopwords to /root/nltk_data...\n",
            "[nltk_data]   Unzipping corpora/stopwords.zip.\n"
          ]
        },
        {
          "output_type": "execute_result",
          "data": {
            "text/plain": [
              "True"
            ]
          },
          "metadata": {},
          "execution_count": 2
        }
      ]
    },
    {
      "cell_type": "code",
      "source": [
        "ps = PorterStemmer()\n",
        "stop_words = set(stopwords.words('english'))"
      ],
      "metadata": {
        "id": "FgOe1DvD9IpA"
      },
      "execution_count": 23,
      "outputs": []
    },
    {
      "cell_type": "code",
      "source": [
        "def preprocess(file_path):\n",
        "\n",
        "  with open(file_path, 'r', encoding='utf-8') as f:\n",
        "    text = f.read()\n",
        "  print(f\"Original Text: {text}\")\n",
        "\n",
        "  text = text.lower()\n",
        "  print(f\"Lowered text: {text}\")\n",
        "\n",
        "  text = text.translate(str.maketrans('','',string.punctuation))\n",
        "  print(f\"punctuation removed: {text}\")\n",
        "\n",
        "  words = nltk.word_tokenize(text)\n",
        "  print(f\"tokenized text: {text}\")\n",
        "\n",
        "  processed_words = []\n",
        "  for word in words:\n",
        "    if word not in stop_words:\n",
        "      stemmed_word = ps.stem(word)\n",
        "      processed_words.append(stemmed_word)\n",
        "  print(f\"stemmed words: {processed_words}\")\n",
        "\n",
        ""
      ],
      "metadata": {
        "id": "s4N5jDvT7D6z"
      },
      "execution_count": 24,
      "outputs": []
    },
    {
      "cell_type": "code",
      "source": [
        "file_path = \"/content/file.txt\"\n",
        "preprocess(file_path)"
      ],
      "metadata": {
        "colab": {
          "base_uri": "https://localhost:8080/"
        },
        "id": "XyhH046R79sF",
        "outputId": "7b055c0e-1237-46e7-9f48-291754b243f6"
      },
      "execution_count": 25,
      "outputs": [
        {
          "output_type": "stream",
          "name": "stdout",
          "text": [
            "Original Text: Sachin Ramesh Tendulkar (/ˌsʌtʃɪn tɛnˈduːlkər/ ⓘ; pronounced [sətɕin teːɳɖulkəɾ]; born 24 April 1973) is an Indian former international cricketer who captained the Indian national team. He is widely regarded as one of the greatest batsmen in the history of cricket.[5] Hailed as the world's most prolific batsman of all time, he is the all-time highest run-scorer in both ODI and Test cricket with more than 18,000 runs and 15,000 runs, respectively.[6] He also holds the record for receiving the most player of the match awards in international cricket.[7] Tendulkar was a Member of Parliament, Rajya Sabha by presidential nomination from 2012 to 2018.[\n",
            "Lowered text: sachin ramesh tendulkar (/ˌsʌtʃɪn tɛnˈduːlkər/ ⓘ; pronounced [sətɕin teːɳɖulkəɾ]; born 24 april 1973) is an indian former international cricketer who captained the indian national team. he is widely regarded as one of the greatest batsmen in the history of cricket.[5] hailed as the world's most prolific batsman of all time, he is the all-time highest run-scorer in both odi and test cricket with more than 18,000 runs and 15,000 runs, respectively.[6] he also holds the record for receiving the most player of the match awards in international cricket.[7] tendulkar was a member of parliament, rajya sabha by presidential nomination from 2012 to 2018.[\n",
            "punctuation removed: sachin ramesh tendulkar ˌsʌtʃɪn tɛnˈduːlkər ⓘ pronounced sətɕin teːɳɖulkəɾ born 24 april 1973 is an indian former international cricketer who captained the indian national team he is widely regarded as one of the greatest batsmen in the history of cricket5 hailed as the worlds most prolific batsman of all time he is the alltime highest runscorer in both odi and test cricket with more than 18000 runs and 15000 runs respectively6 he also holds the record for receiving the most player of the match awards in international cricket7 tendulkar was a member of parliament rajya sabha by presidential nomination from 2012 to 2018\n",
            "tokenized text: sachin ramesh tendulkar ˌsʌtʃɪn tɛnˈduːlkər ⓘ pronounced sətɕin teːɳɖulkəɾ born 24 april 1973 is an indian former international cricketer who captained the indian national team he is widely regarded as one of the greatest batsmen in the history of cricket5 hailed as the worlds most prolific batsman of all time he is the alltime highest runscorer in both odi and test cricket with more than 18000 runs and 15000 runs respectively6 he also holds the record for receiving the most player of the match awards in international cricket7 tendulkar was a member of parliament rajya sabha by presidential nomination from 2012 to 2018\n",
            "stemmed words: ['sachin', 'ramesh', 'tendulkar', 'ˌsʌtʃɪn', 'tɛnˈduːlkər', 'ⓘ', 'pronounc', 'sətɕin', 'teːɳɖulkəɾ', 'born', '24', 'april', '1973', 'indian', 'former', 'intern', 'cricket', 'captain', 'indian', 'nation', 'team', 'wide', 'regard', 'one', 'greatest', 'batsmen', 'histori', 'cricket5', 'hail', 'world', 'prolif', 'batsman', 'time', 'alltim', 'highest', 'runscor', 'odi', 'test', 'cricket', '18000', 'run', '15000', 'run', 'respectively6', 'also', 'hold', 'record', 'receiv', 'player', 'match', 'award', 'intern', 'cricket7', 'tendulkar', 'member', 'parliament', 'rajya', 'sabha', 'presidenti', 'nomin', '2012', '2018']\n"
          ]
        }
      ]
    },
    {
      "cell_type": "markdown",
      "source": [
        "#P-2"
      ],
      "metadata": {
        "id": "lDyH0LR9CmU4"
      }
    },
    {
      "cell_type": "code",
      "source": [
        "!pip install pgmpy"
      ],
      "metadata": {
        "colab": {
          "base_uri": "https://localhost:8080/"
        },
        "id": "wdRHspsI8Br6",
        "outputId": "cab17b03-2510-46e7-a62b-b55c504d8650"
      },
      "execution_count": 3,
      "outputs": [
        {
          "output_type": "stream",
          "name": "stdout",
          "text": [
            "Collecting pgmpy\n",
            "  Downloading pgmpy-0.1.26-py3-none-any.whl.metadata (9.1 kB)\n",
            "Requirement already satisfied: networkx in /usr/local/lib/python3.10/dist-packages (from pgmpy) (3.4.2)\n",
            "Requirement already satisfied: numpy in /usr/local/lib/python3.10/dist-packages (from pgmpy) (1.26.4)\n",
            "Requirement already satisfied: scipy in /usr/local/lib/python3.10/dist-packages (from pgmpy) (1.13.1)\n",
            "Requirement already satisfied: scikit-learn in /usr/local/lib/python3.10/dist-packages (from pgmpy) (1.5.2)\n",
            "Requirement already satisfied: pandas in /usr/local/lib/python3.10/dist-packages (from pgmpy) (2.2.2)\n",
            "Requirement already satisfied: pyparsing in /usr/local/lib/python3.10/dist-packages (from pgmpy) (3.2.0)\n",
            "Requirement already satisfied: torch in /usr/local/lib/python3.10/dist-packages (from pgmpy) (2.5.0+cu121)\n",
            "Requirement already satisfied: statsmodels in /usr/local/lib/python3.10/dist-packages (from pgmpy) (0.14.4)\n",
            "Requirement already satisfied: tqdm in /usr/local/lib/python3.10/dist-packages (from pgmpy) (4.66.6)\n",
            "Requirement already satisfied: joblib in /usr/local/lib/python3.10/dist-packages (from pgmpy) (1.4.2)\n",
            "Requirement already satisfied: opt-einsum in /usr/local/lib/python3.10/dist-packages (from pgmpy) (3.4.0)\n",
            "Requirement already satisfied: xgboost in /usr/local/lib/python3.10/dist-packages (from pgmpy) (2.1.2)\n",
            "Requirement already satisfied: google-generativeai in /usr/local/lib/python3.10/dist-packages (from pgmpy) (0.8.3)\n",
            "Requirement already satisfied: google-ai-generativelanguage==0.6.10 in /usr/local/lib/python3.10/dist-packages (from google-generativeai->pgmpy) (0.6.10)\n",
            "Requirement already satisfied: google-api-core in /usr/local/lib/python3.10/dist-packages (from google-generativeai->pgmpy) (2.19.2)\n",
            "Requirement already satisfied: google-api-python-client in /usr/local/lib/python3.10/dist-packages (from google-generativeai->pgmpy) (2.137.0)\n",
            "Requirement already satisfied: google-auth>=2.15.0 in /usr/local/lib/python3.10/dist-packages (from google-generativeai->pgmpy) (2.27.0)\n",
            "Requirement already satisfied: protobuf in /usr/local/lib/python3.10/dist-packages (from google-generativeai->pgmpy) (3.20.3)\n",
            "Requirement already satisfied: pydantic in /usr/local/lib/python3.10/dist-packages (from google-generativeai->pgmpy) (2.9.2)\n",
            "Requirement already satisfied: typing-extensions in /usr/local/lib/python3.10/dist-packages (from google-generativeai->pgmpy) (4.12.2)\n",
            "Requirement already satisfied: proto-plus<2.0.0dev,>=1.22.3 in /usr/local/lib/python3.10/dist-packages (from google-ai-generativelanguage==0.6.10->google-generativeai->pgmpy) (1.25.0)\n",
            "Requirement already satisfied: python-dateutil>=2.8.2 in /usr/local/lib/python3.10/dist-packages (from pandas->pgmpy) (2.8.2)\n",
            "Requirement already satisfied: pytz>=2020.1 in /usr/local/lib/python3.10/dist-packages (from pandas->pgmpy) (2024.2)\n",
            "Requirement already satisfied: tzdata>=2022.7 in /usr/local/lib/python3.10/dist-packages (from pandas->pgmpy) (2024.2)\n",
            "Requirement already satisfied: threadpoolctl>=3.1.0 in /usr/local/lib/python3.10/dist-packages (from scikit-learn->pgmpy) (3.5.0)\n",
            "Requirement already satisfied: patsy>=0.5.6 in /usr/local/lib/python3.10/dist-packages (from statsmodels->pgmpy) (0.5.6)\n",
            "Requirement already satisfied: packaging>=21.3 in /usr/local/lib/python3.10/dist-packages (from statsmodels->pgmpy) (24.1)\n",
            "Requirement already satisfied: filelock in /usr/local/lib/python3.10/dist-packages (from torch->pgmpy) (3.16.1)\n",
            "Requirement already satisfied: jinja2 in /usr/local/lib/python3.10/dist-packages (from torch->pgmpy) (3.1.4)\n",
            "Requirement already satisfied: fsspec in /usr/local/lib/python3.10/dist-packages (from torch->pgmpy) (2024.10.0)\n",
            "Requirement already satisfied: sympy==1.13.1 in /usr/local/lib/python3.10/dist-packages (from torch->pgmpy) (1.13.1)\n",
            "Requirement already satisfied: mpmath<1.4,>=1.1.0 in /usr/local/lib/python3.10/dist-packages (from sympy==1.13.1->torch->pgmpy) (1.3.0)\n",
            "Requirement already satisfied: nvidia-nccl-cu12 in /usr/local/lib/python3.10/dist-packages (from xgboost->pgmpy) (2.23.4)\n",
            "Requirement already satisfied: googleapis-common-protos<2.0.dev0,>=1.56.2 in /usr/local/lib/python3.10/dist-packages (from google-api-core->google-generativeai->pgmpy) (1.65.0)\n",
            "Requirement already satisfied: requests<3.0.0.dev0,>=2.18.0 in /usr/local/lib/python3.10/dist-packages (from google-api-core->google-generativeai->pgmpy) (2.32.3)\n",
            "Requirement already satisfied: cachetools<6.0,>=2.0.0 in /usr/local/lib/python3.10/dist-packages (from google-auth>=2.15.0->google-generativeai->pgmpy) (5.5.0)\n",
            "Requirement already satisfied: pyasn1-modules>=0.2.1 in /usr/local/lib/python3.10/dist-packages (from google-auth>=2.15.0->google-generativeai->pgmpy) (0.4.1)\n",
            "Requirement already satisfied: rsa<5,>=3.1.4 in /usr/local/lib/python3.10/dist-packages (from google-auth>=2.15.0->google-generativeai->pgmpy) (4.9)\n",
            "Requirement already satisfied: six in /usr/local/lib/python3.10/dist-packages (from patsy>=0.5.6->statsmodels->pgmpy) (1.16.0)\n",
            "Requirement already satisfied: httplib2<1.dev0,>=0.19.0 in /usr/local/lib/python3.10/dist-packages (from google-api-python-client->google-generativeai->pgmpy) (0.22.0)\n",
            "Requirement already satisfied: google-auth-httplib2<1.0.0,>=0.2.0 in /usr/local/lib/python3.10/dist-packages (from google-api-python-client->google-generativeai->pgmpy) (0.2.0)\n",
            "Requirement already satisfied: uritemplate<5,>=3.0.1 in /usr/local/lib/python3.10/dist-packages (from google-api-python-client->google-generativeai->pgmpy) (4.1.1)\n",
            "Requirement already satisfied: MarkupSafe>=2.0 in /usr/local/lib/python3.10/dist-packages (from jinja2->torch->pgmpy) (3.0.2)\n",
            "Requirement already satisfied: annotated-types>=0.6.0 in /usr/local/lib/python3.10/dist-packages (from pydantic->google-generativeai->pgmpy) (0.7.0)\n",
            "Requirement already satisfied: pydantic-core==2.23.4 in /usr/local/lib/python3.10/dist-packages (from pydantic->google-generativeai->pgmpy) (2.23.4)\n",
            "Requirement already satisfied: grpcio<2.0dev,>=1.33.2 in /usr/local/lib/python3.10/dist-packages (from google-api-core[grpc]!=2.0.*,!=2.1.*,!=2.10.*,!=2.2.*,!=2.3.*,!=2.4.*,!=2.5.*,!=2.6.*,!=2.7.*,!=2.8.*,!=2.9.*,<3.0.0dev,>=1.34.1->google-ai-generativelanguage==0.6.10->google-generativeai->pgmpy) (1.64.1)\n",
            "Requirement already satisfied: grpcio-status<2.0.dev0,>=1.33.2 in /usr/local/lib/python3.10/dist-packages (from google-api-core[grpc]!=2.0.*,!=2.1.*,!=2.10.*,!=2.2.*,!=2.3.*,!=2.4.*,!=2.5.*,!=2.6.*,!=2.7.*,!=2.8.*,!=2.9.*,<3.0.0dev,>=1.34.1->google-ai-generativelanguage==0.6.10->google-generativeai->pgmpy) (1.48.2)\n",
            "Requirement already satisfied: pyasn1<0.7.0,>=0.4.6 in /usr/local/lib/python3.10/dist-packages (from pyasn1-modules>=0.2.1->google-auth>=2.15.0->google-generativeai->pgmpy) (0.6.1)\n",
            "Requirement already satisfied: charset-normalizer<4,>=2 in /usr/local/lib/python3.10/dist-packages (from requests<3.0.0.dev0,>=2.18.0->google-api-core->google-generativeai->pgmpy) (3.4.0)\n",
            "Requirement already satisfied: idna<4,>=2.5 in /usr/local/lib/python3.10/dist-packages (from requests<3.0.0.dev0,>=2.18.0->google-api-core->google-generativeai->pgmpy) (3.10)\n",
            "Requirement already satisfied: urllib3<3,>=1.21.1 in /usr/local/lib/python3.10/dist-packages (from requests<3.0.0.dev0,>=2.18.0->google-api-core->google-generativeai->pgmpy) (2.2.3)\n",
            "Requirement already satisfied: certifi>=2017.4.17 in /usr/local/lib/python3.10/dist-packages (from requests<3.0.0.dev0,>=2.18.0->google-api-core->google-generativeai->pgmpy) (2024.8.30)\n",
            "Downloading pgmpy-0.1.26-py3-none-any.whl (2.0 MB)\n",
            "\u001b[2K   \u001b[90m━━━━━━━━━━━━━━━━━━━━━━━━━━━━━━━━━━━━━━━━\u001b[0m \u001b[32m2.0/2.0 MB\u001b[0m \u001b[31m16.1 MB/s\u001b[0m eta \u001b[36m0:00:00\u001b[0m\n",
            "\u001b[?25hInstalling collected packages: pgmpy\n",
            "Successfully installed pgmpy-0.1.26\n"
          ]
        }
      ]
    },
    {
      "cell_type": "code",
      "source": [
        "import numpy as np\n",
        "import pandas as pd\n",
        "from pgmpy.models import BayesianNetwork\n",
        "from pgmpy.estimators import MaximumLikelihoodEstimator\n",
        "from pgmpy.inference import VariableElimination\n",
        "\n",
        "heartDisease = pd.read_csv('/content/drive/MyDrive/Practical_Datasets/IR/heart.csv')\n",
        "heartDisease = heartDisease.replace(\"?\",np.nan)\n",
        "\n",
        "model = BayesianNetwork([('age','trestbps'),('age','fbs'),('sex','trestbps'),('exang','trestbps'),('trestbps','heartdisease'),\n",
        "                       ('fbs','heartdisease'),('heartdisease','restecg'), ('heartdisease','thalach'),('heartdisease','chol')])\n",
        "\n",
        "model.fit(heartDisease, estimator=MaximumLikelihoodEstimator)\n",
        "\n",
        "model_infer = VariableElimination(model)\n",
        "\n",
        "q = model_infer.query(variables=[\"heartdisease\"], evidence={\"age\":38})\n",
        "print(q)\n",
        "\n",
        "q = model_infer.query(variables=[\"heartdisease\"], evidence={\"chol\":240})\n",
        "print(q)"
      ],
      "metadata": {
        "colab": {
          "base_uri": "https://localhost:8080/"
        },
        "id": "n305PrLYCtYb",
        "outputId": "b2643c67-1e84-4c80-d025-306e8f5b1e10"
      },
      "execution_count": 6,
      "outputs": [
        {
          "output_type": "stream",
          "name": "stdout",
          "text": [
            "+-----------------+---------------------+\n",
            "| heartdisease    |   phi(heartdisease) |\n",
            "+=================+=====================+\n",
            "| heartdisease(0) |              0.7026 |\n",
            "+-----------------+---------------------+\n",
            "| heartdisease(1) |              0.1024 |\n",
            "+-----------------+---------------------+\n",
            "| heartdisease(2) |              0.0577 |\n",
            "+-----------------+---------------------+\n",
            "| heartdisease(3) |              0.0631 |\n",
            "+-----------------+---------------------+\n",
            "| heartdisease(4) |              0.0741 |\n",
            "+-----------------+---------------------+\n",
            "+-----------------+---------------------+\n",
            "| heartdisease    |   phi(heartdisease) |\n",
            "+=================+=====================+\n",
            "| heartdisease(0) |              1.0000 |\n",
            "+-----------------+---------------------+\n",
            "| heartdisease(1) |              0.0000 |\n",
            "+-----------------+---------------------+\n",
            "| heartdisease(2) |              0.0000 |\n",
            "+-----------------+---------------------+\n",
            "| heartdisease(3) |              0.0000 |\n",
            "+-----------------+---------------------+\n",
            "| heartdisease(4) |              0.0000 |\n",
            "+-----------------+---------------------+\n"
          ]
        }
      ]
    },
    {
      "cell_type": "markdown",
      "source": [
        "#P-3"
      ],
      "metadata": {
        "id": "URR9EzX8Klvn"
      }
    },
    {
      "cell_type": "code",
      "source": [
        "import pandas as pd\n",
        "import numpy as np\n",
        "import matplotlib.pyplot as plt\n",
        "from sklearn.decomposition import PCA\n",
        "from sklearn.cluster import AgglomerativeClustering\n",
        "from sklearn.preprocessing import StandardScaler, normalize\n",
        "from sklearn.metrics import silhouette_score\n",
        "import scipy.cluster.hierarchy as shc\n",
        "\n",
        "X = pd.read_csv('/content/drive/MyDrive/Practical_Datasets/IR/CC GENERAL.csv')\n",
        "\n",
        "X = X.drop(\"CUST_ID\", axis=True)\n",
        "\n",
        "X.fillna(method=\"ffill\", inplace=True)\n",
        "\n",
        "scaler = StandardScaler()\n",
        "X_scaled = scaler.fit_transform(X)\n",
        "\n",
        "X_normalized = normalize(X_scaled)\n",
        "\n",
        "X_Dataframe = pd.DataFrame(X_normalized)\n",
        "\n",
        "pca = PCA(n_components=2)\n",
        "X_principal = pca.fit_transform(X_normalized)\n",
        "X_principal = pd.DataFrame(X_principal)\n",
        "X_principal.columns = [\"P1\",\"P2\"]\n",
        "\n",
        "plt.figure(figsize=(8,8))\n",
        "plt.title(\"Dendrogram Visualization\")\n",
        "shc.dendrogram(shc.linkage(X_principal, method=\"ward\"))\n",
        "plt.show()\n",
        "\n",
        "ac2 = AgglomerativeClustering(n_clusters=2)\n",
        "plt.figure(figsize=(6,6))\n",
        "plt.scatter(X_principal[\"P1\"], X_principal[\"P2\"],c = ac2.fit_predict(X_principal), cmap=\"rainbow\")\n",
        "plt.show()"
      ],
      "metadata": {
        "colab": {
          "base_uri": "https://localhost:8080/",
          "height": 1000
        },
        "id": "ejgXmBJajkHh",
        "outputId": "8cff09a4-a690-4987-eca1-36c6bf1fc2eb"
      },
      "execution_count": 1,
      "outputs": [
        {
          "output_type": "stream",
          "name": "stderr",
          "text": [
            "<ipython-input-1-282b1551f0f9>:14: FutureWarning: DataFrame.fillna with 'method' is deprecated and will raise in a future version. Use obj.ffill() or obj.bfill() instead.\n",
            "  X.fillna(method=\"ffill\", inplace=True)\n"
          ]
        },
        {
          "output_type": "display_data",
          "data": {
            "text/plain": [
              "<Figure size 800x800 with 1 Axes>"
            ],
            "image/png": "[encoded data removed]"
          },
          "metadata": {}
        },
        {
          "output_type": "display_data",
          "data": {
            "text/plain": [
              "<Figure size 600x600 with 1 Axes>"
            ],
            "image/png": "[encoded data removed]"
          },
          "metadata": {}
        }
      ]
    },
    {
      "cell_type": "markdown",
      "source": [
        "#P-4"
      ],
      "metadata": {
        "id": "IVDaLnpwJkAZ"
      }
    },
    {
      "cell_type": "code",
      "source": [
        "import numpy as np\n",
        "\n",
        "adj_matrix = np.array([\n",
        "    [0,1,0,1],\n",
        "    [1,0,0,0],\n",
        "    [0,0,1,0],\n",
        "    [1,0,0,1]\n",
        "])\n",
        "\n",
        "d = 0.85\n",
        "n = adj_matrix.shape[0]\n",
        "page_rank = np.ones(n) / n\n",
        "\n",
        "out_degree = adj_matrix.sum(axis=1)\n",
        "\n",
        "for i in range(n):\n",
        "  for j in range(n):\n",
        "    if out_degree[i] != 0:\n",
        "      adj_matrix[i][j] = adj_matrix[i][j] / out_degree[i]\n",
        "    else:\n",
        "      adj_matrix[i][j] = i / n\n",
        "\n",
        "iterations = 100\n",
        "for _ in range(iterations):\n",
        "    # Update PageRank values\n",
        "    new_rank = (1 - d) / n + d * adj_matrix.T @ page_rank\n",
        "    page_rank = new_rank\n",
        "\n",
        "print(\"PageRank Results:\")\n",
        "for i, rank in enumerate(page_rank):\n",
        "    print(f\"Page {chr(65 + i)}: {rank:.4f}\")"
      ],
      "metadata": {
        "id": "9rePod6cJjPa"
      },
      "execution_count": 89,
      "outputs": []
    },
    {
      "cell_type": "markdown",
      "source": [
        "#P-5"
      ],
      "metadata": {
        "id": "m-XdNmpLoC1F"
      }
    },
    {
      "cell_type": "code",
      "source": [
        "!pip install requests beautifulsoup4"
      ],
      "metadata": {
        "colab": {
          "base_uri": "https://localhost:8080/"
        },
        "id": "Rr9tcapZWiFi",
        "outputId": "c9e2fb48-225d-48fb-80e6-0152b34ed922"
      },
      "execution_count": 7,
      "outputs": [
        {
          "output_type": "stream",
          "name": "stdout",
          "text": [
            "Requirement already satisfied: requests in /usr/local/lib/python3.10/dist-packages (2.32.3)\n",
            "Requirement already satisfied: beautifulsoup4 in /usr/local/lib/python3.10/dist-packages (4.12.3)\n",
            "Requirement already satisfied: charset-normalizer<4,>=2 in /usr/local/lib/python3.10/dist-packages (from requests) (3.4.0)\n",
            "Requirement already satisfied: idna<4,>=2.5 in /usr/local/lib/python3.10/dist-packages (from requests) (3.10)\n",
            "Requirement already satisfied: urllib3<3,>=1.21.1 in /usr/local/lib/python3.10/dist-packages (from requests) (2.2.3)\n",
            "Requirement already satisfied: certifi>=2017.4.17 in /usr/local/lib/python3.10/dist-packages (from requests) (2024.8.30)\n",
            "Requirement already satisfied: soupsieve>1.2 in /usr/local/lib/python3.10/dist-packages (from beautifulsoup4) (2.6)\n"
          ]
        }
      ]
    },
    {
      "cell_type": "code",
      "source": [
        "import requests\n",
        "from bs4 import BeautifulSoup\n",
        "import pandas as pd\n",
        "import time\n",
        "\n",
        "url = 'https://books.toscrape.com/'\n",
        "\n",
        "response = requests.get(url)\n",
        "soup = BeautifulSoup(response.text, 'html.parser')\n",
        "\n",
        "books = []\n",
        "for item in soup.find_all('article', class_='product_pod'):\n",
        "    # Get book title\n",
        "    title = item.find('h3').text.strip()\n",
        "\n",
        "    # Get book link\n",
        "    link = item.find('a')['href']\n",
        "    link = 'https://books.toscrape.com/' + link  # Add base URL to complete the link\n",
        "\n",
        "    # Get book price\n",
        "    price = item.find('p', class_='price_color').text.strip()\n",
        "\n",
        "    # Append the extracted data into the books list\n",
        "    books.append({\n",
        "        'Book_Title': title,\n",
        "        'Price': price,\n",
        "        'Book_Link': link\n",
        "    })\n",
        "\n",
        "# Step 4: Create a DataFrame from the extracted data\n",
        "df = pd.DataFrame(books)\n",
        "\n",
        "# Step 5: Print the DataFrame to check the output\n",
        "print(df.head())\n",
        "\n",
        "# Step 6: Save the DataFrame to a CSV file\n",
        "df.to_csv('books.csv', index=False, encoding='utf-8')\n",
        "print(f'{len(books)} books extracted and saved to books.csv.')\n",
        "\n",
        "file = pd.read_csv('books.csv')\n",
        "\n",
        "file.head()"
      ],
      "metadata": {
        "colab": {
          "base_uri": "https://localhost:8080/",
          "height": 449
        },
        "id": "SgtGcsHVoH85",
        "outputId": "43d02158-6e54-4c62-c964-a78cbda34c1a"
      },
      "execution_count": 8,
      "outputs": [
        {
          "output_type": "stream",
          "name": "stdout",
          "text": [
            "                     Book_Title    Price  \\\n",
            "0            A Light in the ...  Â£51.77   \n",
            "1            Tipping the Velvet  Â£53.74   \n",
            "2                    Soumission  Â£50.10   \n",
            "3                 Sharp Objects  Â£47.82   \n",
            "4  Sapiens: A Brief History ...  Â£54.23   \n",
            "\n",
            "                                           Book_Link  \n",
            "0  https://books.toscrape.com/catalogue/a-light-i...  \n",
            "1  https://books.toscrape.com/catalogue/tipping-t...  \n",
            "2  https://books.toscrape.com/catalogue/soumissio...  \n",
            "3  https://books.toscrape.com/catalogue/sharp-obj...  \n",
            "4  https://books.toscrape.com/catalogue/sapiens-a...  \n",
            "20 books extracted and saved to books.csv.\n"
          ]
        },
        {
          "output_type": "execute_result",
          "data": {
            "text/plain": [
              "                     Book_Title    Price  \\\n",
              "0            A Light in the ...  Â£51.77   \n",
              "1            Tipping the Velvet  Â£53.74   \n",
              "2                    Soumission  Â£50.10   \n",
              "3                 Sharp Objects  Â£47.82   \n",
              "4  Sapiens: A Brief History ...  Â£54.23   \n",
              "\n",
              "                                           Book_Link  \n",
              "0  https://books.toscrape.com/catalogue/a-light-i...  \n",
              "1  https://books.toscrape.com/catalogue/tipping-t...  \n",
              "2  https://books.toscrape.com/catalogue/soumissio...  \n",
              "3  https://books.toscrape.com/catalogue/sharp-obj...  \n",
              "4  https://books.toscrape.com/catalogue/sapiens-a...  "
            ],
            "text/html": [
              "\n",
              "  <div id=\"df-f7ed063c-e1a9-4ecf-ba27-1923372688a0\" class=\"colab-df-container\">\n",
              "    <div>\n",
              "<style scoped>\n",
              "    .dataframe tbody tr th:only-of-type {\n",
              "        vertical-align: middle;\n",
              "    }\n",
              "\n",
              "    .dataframe tbody tr th {\n",
              "        vertical-align: top;\n",
              "    }\n",
              "\n",
              "    .dataframe thead th {\n",
              "        text-align: right;\n",
              "    }\n",
              "</style>\n",
              "<table border=\"1\" class=\"dataframe\">\n",
              "  <thead>\n",
              "    <tr style=\"text-align: right;\">\n",
              "      <th></th>\n",
              "      <th>Book_Title</th>\n",
              "      <th>Price</th>\n",
              "      <th>Book_Link</th>\n",
              "    </tr>\n",
              "  </thead>\n",
              "  <tbody>\n",
              "    <tr>\n",
              "      <th>0</th>\n",
              "      <td>A Light in the ...</td>\n",
              "      <td>Â£51.77</td>\n",
              "      <td>https://books.toscrape.com/catalogue/a-light-i...</td>\n",
              "    </tr>\n",
              "    <tr>\n",
              "      <th>1</th>\n",
              "      <td>Tipping the Velvet</td>\n",
              "      <td>Â£53.74</td>\n",
              "      <td>https://books.toscrape.com/catalogue/tipping-t...</td>\n",
              "    </tr>\n",
              "    <tr>\n",
              "      <th>2</th>\n",
              "      <td>Soumission</td>\n",
              "      <td>Â£50.10</td>\n",
              "      <td>https://books.toscrape.com/catalogue/soumissio...</td>\n",
              "    </tr>\n",
              "    <tr>\n",
              "      <th>3</th>\n",
              "      <td>Sharp Objects</td>\n",
              "      <td>Â£47.82</td>\n",
              "      <td>https://books.toscrape.com/catalogue/sharp-obj...</td>\n",
              "    </tr>\n",
              "    <tr>\n",
              "      <th>4</th>\n",
              "      <td>Sapiens: A Brief History ...</td>\n",
              "      <td>Â£54.23</td>\n",
              "      <td>https://books.toscrape.com/catalogue/sapiens-a...</td>\n",
              "    </tr>\n",
              "  </tbody>\n",
              "</table>\n",
              "</div>\n",
              "    <div class=\"colab-df-buttons\">\n",
              "\n",
              "  <div class=\"colab-df-container\">\n",
              "    <button class=\"colab-df-convert\" onclick=\"convertToInteractive('df-f7ed063c-e1a9-4ecf-ba27-1923372688a0')\"\n",
              "            title=\"Convert this dataframe to an interactive table.\"\n",
              "            style=\"display:none;\">\n",
              "\n",
              "  <svg xmlns=\"http://www.w3.org/2000/svg\" height=\"24px\" viewBox=\"0 -960 960 960\">\n",
              "    <path d=\"M120-120v-720h720v720H120Zm60-500h600v-160H180v160Zm220 220h160v-160H400v160Zm0 220h160v-160H400v160ZM180-400h160v-160H180v160Zm440 0h160v-160H620v160ZM180-180h160v-160H180v160Zm440 0h160v-160H620v160Z\"/>\n",
              "  </svg>\n",
              "    </button>\n",
              "\n",
              "  <style>\n",
              "    .colab-df-container {\n",
              "      display:flex;\n",
              "      gap: 12px;\n",
              "    }\n",
              "\n",
              "    .colab-df-convert {\n",
              "      background-color: #E8F0FE;\n",
              "      border: none;\n",
              "      border-radius: 50%;\n",
              "      cursor: pointer;\n",
              "      display: none;\n",
              "      fill: #1967D2;\n",
              "      height: 32px;\n",
              "      padding: 0 0 0 0;\n",
              "      width: 32px;\n",
              "    }\n",
              "\n",
              "    .colab-df-convert:hover {\n",
              "      background-color: #E2EBFA;\n",
              "      box-shadow: 0px 1px 2px rgba(60, 64, 67, 0.3), 0px 1px 3px 1px rgba(60, 64, 67, 0.15);\n",
              "      fill: #174EA6;\n",
              "    }\n",
              "\n",
              "    .colab-df-buttons div {\n",
              "      margin-bottom: 4px;\n",
              "    }\n",
              "\n",
              "    [theme=dark] .colab-df-convert {\n",
              "      background-color: #3B4455;\n",
              "      fill: #D2E3FC;\n",
              "    }\n",
              "\n",
              "    [theme=dark] .colab-df-convert:hover {\n",
              "      background-color: #434B5C;\n",
              "      box-shadow: 0px 1px 3px 1px rgba(0, 0, 0, 0.15);\n",
              "      filter: drop-shadow(0px 1px 2px rgba(0, 0, 0, 0.3));\n",
              "      fill: #FFFFFF;\n",
              "    }\n",
              "  </style>\n",
              "\n",
              "    <script>\n",
              "      const buttonEl =\n",
              "        document.querySelector('#df-f7ed063c-e1a9-4ecf-ba27-1923372688a0 button.colab-df-convert');\n",
              "      buttonEl.style.display =\n",
              "        google.colab.kernel.accessAllowed ? 'block' : 'none';\n",
              "\n",
              "      async function convertToInteractive(key) {\n",
              "        const element = document.querySelector('#df-f7ed063c-e1a9-4ecf-ba27-1923372688a0');\n",
              "        const dataTable =\n",
              "          await google.colab.kernel.invokeFunction('convertToInteractive',\n",
              "                                                    [key], {});\n",
              "        if (!dataTable) return;\n",
              "\n",
              "        const docLinkHtml = 'Like what you see? Visit the ' +\n",
              "          '<a target=\"_blank\" href=https://colab.research.google.com/notebooks/data_table.ipynb>data table notebook</a>'\n",
              "          + ' to learn more about interactive tables.';\n",
              "        element.innerHTML = '';\n",
              "        dataTable['output_type'] = 'display_data';\n",
              "        await google.colab.output.renderOutput(dataTable, element);\n",
              "        const docLink = document.createElement('div');\n",
              "        docLink.innerHTML = docLinkHtml;\n",
              "        element.appendChild(docLink);\n",
              "      }\n",
              "    </script>\n",
              "  </div>\n",
              "\n",
              "\n",
              "<div id=\"df-08ad8bda-bc4d-4ba8-8a2c-0effc7288867\">\n",
              "  <button class=\"colab-df-quickchart\" onclick=\"quickchart('df-08ad8bda-bc4d-4ba8-8a2c-0effc7288867')\"\n",
              "            title=\"Suggest charts\"\n",
              "            style=\"display:none;\">\n",
              "\n",
              "<svg xmlns=\"http://www.w3.org/2000/svg\" height=\"24px\"viewBox=\"0 0 24 24\"\n",
              "     width=\"24px\">\n",
              "    <g>\n",
              "        <path d=\"M19 3H5c-1.1 0-2 .9-2 2v14c0 1.1.9 2 2 2h14c1.1 0 2-.9 2-2V5c0-1.1-.9-2-2-2zM9 17H7v-7h2v7zm4 0h-2V7h2v10zm4 0h-2v-4h2v4z\"/>\n",
              "    </g>\n",
              "</svg>\n",
              "  </button>\n",
              "\n",
              "<style>\n",
              "  .colab-df-quickchart {\n",
              "      --bg-color: #E8F0FE;\n",
              "      --fill-color: #1967D2;\n",
              "      --hover-bg-color: #E2EBFA;\n",
              "      --hover-fill-color: #174EA6;\n",
              "      --disabled-fill-color: #AAA;\n",
              "      --disabled-bg-color: #DDD;\n",
              "  }\n",
              "\n",
              "  [theme=dark] .colab-df-quickchart {\n",
              "      --bg-color: #3B4455;\n",
              "      --fill-color: #D2E3FC;\n",
              "      --hover-bg-color: #434B5C;\n",
              "      --hover-fill-color: #FFFFFF;\n",
              "      --disabled-bg-color: #3B4455;\n",
              "      --disabled-fill-color: #666;\n",
              "  }\n",
              "\n",
              "  .colab-df-quickchart {\n",
              "    background-color: var(--bg-color);\n",
              "    border: none;\n",
              "    border-radius: 50%;\n",
              "    cursor: pointer;\n",
              "    display: none;\n",
              "    fill: var(--fill-color);\n",
              "    height: 32px;\n",
              "    padding: 0;\n",
              "    width: 32px;\n",
              "  }\n",
              "\n",
              "  .colab-df-quickchart:hover {\n",
              "    background-color: var(--hover-bg-color);\n",
              "    box-shadow: 0 1px 2px rgba(60, 64, 67, 0.3), 0 1px 3px 1px rgba(60, 64, 67, 0.15);\n",
              "    fill: var(--button-hover-fill-color);\n",
              "  }\n",
              "\n",
              "  .colab-df-quickchart-complete:disabled,\n",
              "  .colab-df-quickchart-complete:disabled:hover {\n",
              "    background-color: var(--disabled-bg-color);\n",
              "    fill: var(--disabled-fill-color);\n",
              "    box-shadow: none;\n",
              "  }\n",
              "\n",
              "  .colab-df-spinner {\n",
              "    border: 2px solid var(--fill-color);\n",
              "    border-color: transparent;\n",
              "    border-bottom-color: var(--fill-color);\n",
              "    animation:\n",
              "      spin 1s steps(1) infinite;\n",
              "  }\n",
              "\n",
              "  @keyframes spin {\n",
              "    0% {\n",
              "      border-color: transparent;\n",
              "      border-bottom-color: var(--fill-color);\n",
              "      border-left-color: var(--fill-color);\n",
              "    }\n",
              "    20% {\n",
              "      border-color: transparent;\n",
              "      border-left-color: var(--fill-color);\n",
              "      border-top-color: var(--fill-color);\n",
              "    }\n",
              "    30% {\n",
              "      border-color: transparent;\n",
              "      border-left-color: var(--fill-color);\n",
              "      border-top-color: var(--fill-color);\n",
              "      border-right-color: var(--fill-color);\n",
              "    }\n",
              "    40% {\n",
              "      border-color: transparent;\n",
              "      border-right-color: var(--fill-color);\n",
              "      border-top-color: var(--fill-color);\n",
              "    }\n",
              "    60% {\n",
              "      border-color: transparent;\n",
              "      border-right-color: var(--fill-color);\n",
              "    }\n",
              "    80% {\n",
              "      border-color: transparent;\n",
              "      border-right-color: var(--fill-color);\n",
              "      border-bottom-color: var(--fill-color);\n",
              "    }\n",
              "    90% {\n",
              "      border-color: transparent;\n",
              "      border-bottom-color: var(--fill-color);\n",
              "    }\n",
              "  }\n",
              "</style>\n",
              "\n",
              "  <script>\n",
              "    async function quickchart(key) {\n",
              "      const quickchartButtonEl =\n",
              "        document.querySelector('#' + key + ' button');\n",
              "      quickchartButtonEl.disabled = true;  // To prevent multiple clicks.\n",
              "      quickchartButtonEl.classList.add('colab-df-spinner');\n",
              "      try {\n",
              "        const charts = await google.colab.kernel.invokeFunction(\n",
              "            'suggestCharts', [key], {});\n",
              "      } catch (error) {\n",
              "        console.error('Error during call to suggestCharts:', error);\n",
              "      }\n",
              "      quickchartButtonEl.classList.remove('colab-df-spinner');\n",
              "      quickchartButtonEl.classList.add('colab-df-quickchart-complete');\n",
              "    }\n",
              "    (() => {\n",
              "      let quickchartButtonEl =\n",
              "        document.querySelector('#df-08ad8bda-bc4d-4ba8-8a2c-0effc7288867 button');\n",
              "      quickchartButtonEl.style.display =\n",
              "        google.colab.kernel.accessAllowed ? 'block' : 'none';\n",
              "    })();\n",
              "  </script>\n",
              "</div>\n",
              "\n",
              "    </div>\n",
              "  </div>\n"
            ],
            "application/vnd.google.colaboratory.intrinsic+json": {
              "type": "dataframe",
              "variable_name": "file",
              "summary": "{\n  \"name\": \"file\",\n  \"rows\": 20,\n  \"fields\": [\n    {\n      \"column\": \"Book_Title\",\n      \"properties\": {\n        \"dtype\": \"string\",\n        \"num_unique_values\": 20,\n        \"samples\": [\n          \"A Light in the ...\",\n          \"Mesaerion: The Best Science ...\",\n          \"Our Band Could Be ...\"\n        ],\n        \"semantic_type\": \"\",\n        \"description\": \"\"\n      }\n    },\n    {\n      \"column\": \"Price\",\n      \"properties\": {\n        \"dtype\": \"string\",\n        \"num_unique_values\": 20,\n        \"samples\": [\n          \"\\u00c2\\u00a351.77\",\n          \"\\u00c2\\u00a337.59\",\n          \"\\u00c2\\u00a357.25\"\n        ],\n        \"semantic_type\": \"\",\n        \"description\": \"\"\n      }\n    },\n    {\n      \"column\": \"Book_Link\",\n      \"properties\": {\n        \"dtype\": \"string\",\n        \"num_unique_values\": 20,\n        \"samples\": [\n          \"https://books.toscrape.com/catalogue/a-light-in-the-attic_1000/index.html\",\n          \"https://books.toscrape.com/catalogue/mesaerion-the-best-science-fiction-stories-1800-1849_983/index.html\",\n          \"https://books.toscrape.com/catalogue/our-band-could-be-your-life-scenes-from-the-american-indie-underground-1981-1991_985/index.html\"\n        ],\n        \"semantic_type\": \"\",\n        \"description\": \"\"\n      }\n    }\n  ]\n}"
            }
          },
          "metadata": {},
          "execution_count": 8
        }
      ]
    },
    {
      "cell_type": "markdown",
      "source": [
        "#Bio Practicals\n",
        "#P-1"
      ],
      "metadata": {
        "id": "cKSQsqEi5rsL"
      }
    },
    {
      "cell_type": "code",
      "source": [
        "import re\n",
        "sequence = \"\"\n",
        "with open(\"sequence.fasta\") as f:\n",
        " lines = f.readlines()\n",
        " sequence = ''.join(line.strip() for line in lines[1:]).upper()\n",
        "g_count = sequence.count('G')\n",
        "c_count = sequence.count('C')\n",
        "total_count = len(sequence)\n",
        "gc_percent = ((g_count + c_count) / total_count) * 100\n",
        "print(f\"G Count: {g_count}\")\n",
        "print(f\"C Count: {c_count}\")\n",
        "print(f\"Total Count: {total_count}\")\n",
        "print(f\"GC Percent: {gc_percent:.2f}%\")\n",
        "\n",
        "a_count = sequence.count('A')\n",
        "t_count = sequence.count('T')\n",
        "at_percent = ((a_count + t_count) / total_count) * 100\n",
        "print(f\"A Count: {a_count}\")\n",
        "print(f\"T Count: {t_count}\")\n",
        "print(f\"AT Percent: {at_percent:.2f}%\")\n",
        "\n",
        "ratio = (a_count + t_count) / (g_count + c_count)\n",
        "print(f\"AT/GC Ratio: {ratio:.2f}\")\n",
        "start_codon = 'ATG'\n",
        "stop_codons = ['TAA', 'TAG', 'TGA']\n",
        "coding_regions = []\n",
        "start_index = sequence.find(start_codon)\n",
        "print(start_index)\n",
        "\n",
        "while start_index != -1:\n",
        "  for stop_codon in stop_codons:\n",
        "    stop_index = sequence.find(stop_codon, start_index + 3)\n",
        "    if stop_index != -1 and (stop_index - start_index) % 3 == 0:\n",
        "      coding_region = sequence[start_index:stop_index + 3]\n",
        "      coding_regions.append(coding_region)\n",
        "      break\n",
        "  start_index = sequence.find(start_codon, start_index + 1)\n",
        "if coding_regions:\n",
        "  print(\"Coding Regions Found\")\n",
        "  for i, coding_region in enumerate(coding_regions, start=1):\n",
        "    print(f\"\\nRegion {i}: {coding_region}\\nLength: {len(coding_region)}\")\n",
        "else:\n",
        "  print(\"No coding regions found\")\n",
        "\n",
        "def find_motifs(sequence, motif):\n",
        "  print(f\"\\nSearching for motif: {motif}\")\n",
        "  matches = [match.start() for match in re.finditer(motif, sequence)]\n",
        "  if matches:\n",
        "    print(f\"Motif '{motif}' found at positions: {matches}\")\n",
        "  else:\n",
        "    print(f\"Motif '{motif}' not found\")\n",
        "\n",
        "motif = \"TATAA\"\n",
        "find_motifs(sequence, motif)"
      ],
      "metadata": {
        "colab": {
          "base_uri": "https://localhost:8080/",
          "height": 211
        },
        "id": "r7RTfllcoaof",
        "outputId": "80a14594-1047-4bd7-9b39-f20d838b4268"
      },
      "execution_count": 1,
      "outputs": [
        {
          "output_type": "error",
          "ename": "FileNotFoundError",
          "evalue": "[Errno 2] No such file or directory: 'sequence.fasta'",
          "traceback": [
            "\u001b[0;31m---------------------------------------------------------------------------\u001b[0m",
            "\u001b[0;31mFileNotFoundError\u001b[0m                         Traceback (most recent call last)",
            "\u001b[0;32m<ipython-input-1-05a3cc92aa0f>\u001b[0m in \u001b[0;36m<cell line: 3>\u001b[0;34m()\u001b[0m\n\u001b[1;32m      1\u001b[0m \u001b[0;32mimport\u001b[0m \u001b[0mre\u001b[0m\u001b[0;34m\u001b[0m\u001b[0;34m\u001b[0m\u001b[0m\n\u001b[1;32m      2\u001b[0m \u001b[0msequence\u001b[0m \u001b[0;34m=\u001b[0m \u001b[0;34m\"\"\u001b[0m\u001b[0;34m\u001b[0m\u001b[0;34m\u001b[0m\u001b[0m\n\u001b[0;32m----> 3\u001b[0;31m \u001b[0;32mwith\u001b[0m \u001b[0mopen\u001b[0m\u001b[0;34m(\u001b[0m\u001b[0;34m\"sequence.fasta\"\u001b[0m\u001b[0;34m)\u001b[0m \u001b[0;32mas\u001b[0m \u001b[0mf\u001b[0m\u001b[0;34m:\u001b[0m\u001b[0;34m\u001b[0m\u001b[0;34m\u001b[0m\u001b[0m\n\u001b[0m\u001b[1;32m      4\u001b[0m  \u001b[0mlines\u001b[0m \u001b[0;34m=\u001b[0m \u001b[0mf\u001b[0m\u001b[0;34m.\u001b[0m\u001b[0mreadlines\u001b[0m\u001b[0;34m(\u001b[0m\u001b[0;34m)\u001b[0m\u001b[0;34m\u001b[0m\u001b[0;34m\u001b[0m\u001b[0m\n\u001b[1;32m      5\u001b[0m  \u001b[0msequence\u001b[0m \u001b[0;34m=\u001b[0m \u001b[0;34m''\u001b[0m\u001b[0;34m.\u001b[0m\u001b[0mjoin\u001b[0m\u001b[0;34m(\u001b[0m\u001b[0mline\u001b[0m\u001b[0;34m.\u001b[0m\u001b[0mstrip\u001b[0m\u001b[0;34m(\u001b[0m\u001b[0;34m)\u001b[0m \u001b[0;32mfor\u001b[0m \u001b[0mline\u001b[0m \u001b[0;32min\u001b[0m \u001b[0mlines\u001b[0m\u001b[0;34m[\u001b[0m\u001b[0;36m1\u001b[0m\u001b[0;34m:\u001b[0m\u001b[0;34m]\u001b[0m\u001b[0;34m)\u001b[0m\u001b[0;34m.\u001b[0m\u001b[0mupper\u001b[0m\u001b[0;34m(\u001b[0m\u001b[0;34m)\u001b[0m\u001b[0;34m\u001b[0m\u001b[0;34m\u001b[0m\u001b[0m\n",
            "\u001b[0;31mFileNotFoundError\u001b[0m: [Errno 2] No such file or directory: 'sequence.fasta'"
          ]
        }
      ]
    },
    {
      "cell_type": "markdown",
      "source": [
        "#P-3"
      ],
      "metadata": {
        "id": "c--ci_st6uJc"
      }
    },
    {
      "cell_type": "code",
      "source": [
        "if(!require(\"BiocManager\", quietly = TRUE))\n",
        "  install.packages(\"BiocManager\")\n",
        "\n",
        "BiocManager::install(\"DESeq2\")\n",
        "BiocManager::install(\"pasilla\")\n",
        "BiocManager::install(\"ggplot2\")\n",
        "BiocManager::install(\"ggrepel\")\n",
        "\n",
        "library(\"DESeq2\")\n",
        "library(\"pasilla\")\n",
        "library(\"ggplot2\")\n",
        "library(\"ggrepel\")\n",
        "\n",
        "count_csv <- system.file(\"extdata\",\n",
        "                         \"pasilla_gene_counts.tsv\",\n",
        "                         package = \"pasilla\", mustWork = TRUE)\n",
        "\n",
        "annotation_csv <- system.file(\"extdata\",\n",
        "                              \"pasilla_sample_annotation.csv\",\n",
        "                              package = \"pasilla\", mustWork = TRUE)\n",
        "\n",
        "count_data <- read.csv(count_csv, sep = \"\\t\", row.names = \"gene_id\")\n",
        "count_matrix <- as.matrix(count_data)\n",
        "\n",
        "annotation_data <- read.csv(annotation_csv, row.names = 1)\n",
        "annotation_data$condition <- factor(annotation_data$condition)\n",
        "\n",
        "rownames(annotation_data) <- sub(\"fb\", \"\", rownames(annotation_data))\n",
        "\n",
        "all(rownames(annotation_data) %in% colnames(count_matrix))\n",
        "\n",
        "all(rownames(annotation_data) == colnames(count_matrix))\n",
        "\n",
        "count_matrix <- count_matrix[, rownames(annotation_data)]\n",
        "\n",
        "all(rownames(annotation_data) == colnames(count_matrix))\n",
        "\n",
        "deseq <- DESeqDataSetFromMatrix(countData = count_matrix,\n",
        "                                colData = annotation_data,\n",
        "                                design = ~ condition)\n",
        "\n",
        "diff_exp_analysis <- DESeq(deseq)\n",
        "\n",
        "diff_exp_result <- results(diff_exp_analysis)\n",
        "\n",
        "write.csv(\"./DESeq_Analysis.csv\", header = TRUE)\n",
        "\n",
        "dataframe <- read.csv(\"./DESeq_Analysis.csv\", header = TRUE)\n",
        "\n",
        "dataframe$expressed <- \"NO\"\n",
        "\n",
        "dataframe$expressed[dataframe$log2FoldChange > 0.1 & dataframe$pvalue < 0.05] <- \"UP\"\n",
        "dataframe$expressed[dataframe$log2FoldChange < -0.1 & dataframe$pvalue < 0.05] <- \"DOWN\"\n",
        "\n",
        "upregulated_genes <- rownames(dataframe[dataframe$expressed == \"UP\", ])\n",
        "downregulated_genes <- rownames(dataframe[dataframe$expressed == \"DOWN\", ])\n",
        "\n",
        "write(upregulated_genes, file = \"upregualated_genes.txt\")\n",
        "write(downregulated_genes, file = \"downregulated_genes.txt\")\n",
        "\n",
        "ggplot(data = dataframe, aes(x = log2FoldChange, y = -log10(pvalue), col = expressed)) +\n",
        "  geom_vline(xintercept = c(-1, 1), linetype = \"dashed\") +\n",
        "  geom_hline(yintercept = -log10(0.05), linetype = \"dashed\") +\n",
        "  geom_point(size = 2) +\n",
        "  theme_minimal() +\n",
        "  scale_color_manual(values = c(\"turquoise\", \"grey\", \"pink\"),\n",
        "                     labels = c(\"Downregulated\", \"Not Significant\", \"Upregulated\")) +\n",
        "  labs(x = \"log2 Fold Change\", y = \"-log10 P-value\", color = \"Expression\")\n"
      ],
      "metadata": {
        "id": "O_uQTOWG6wJo"
      },
      "execution_count": null,
      "outputs": []
    },
    {
      "cell_type": "markdown",
      "source": [
        "#P-4"
      ],
      "metadata": {
        "id": "NYr-Q4N759rp"
      }
    },
    {
      "cell_type": "code",
      "source": [
        "!pip install category_encoders"
      ],
      "metadata": {
        "id": "ZLzTTzqn54sg"
      },
      "execution_count": null,
      "outputs": []
    },
    {
      "cell_type": "code",
      "source": [
        "import warnings\n",
        "import numpy as np\n",
        "import pandas as pd\n",
        "import matplotlib.pyplot as plt\n",
        "import seaborn as sns\n",
        "from sklearn import linear_model, svm, model_selection, tree, ensemble, neighbors, preprocessing, base, metrics\n",
        "import category_encoders\n",
        "import imblearn\n",
        "\n",
        "df=pd.read_csv(\"METABRIC_RNA_Mutation.csv\")\n",
        "\n",
        "df.shape\n",
        "\n",
        "df1=df.dropna()\n",
        "\n",
        "total = df.isnull().sum().sort_values(ascending=False)\n",
        "\n",
        "df.info()\n",
        "\n",
        "df_expression = df.iloc[:, 31:519].join(df['overall_survival'],how='inner')\n",
        "df_expression\n",
        "\n",
        "import pandas as pd\n",
        "import numpy as np\n",
        "import matplotlib.pyplot as plt\n",
        "import seaborn as sns\n",
        "from sklearn.model_selection import train_test_split\n",
        "from sklearn.metrics import classification_report, confusion_matrix, roc_auc_score, accuracy_score, f1_score\n",
        "from sklearn.ensemble import RandomForestClassifier\n",
        "\n",
        "# Function to evaluate and display results for RandomForest model\n",
        "def evaluate_random_forest(X_train, X_test, y_train, y_test):\n",
        "    model = RandomForestClassifier()\n",
        "    model.fit(X_train, y_train)\n",
        "\n",
        "    # Predictions and probabilities\n",
        "    y_pred = model.predict(X_test)\n",
        "\n",
        "    # Calculate metrics\n",
        "    f1 = f1_score(y_test, y_pred, average='weighted')\n",
        "    accuracy = accuracy_score(y_test, y_pred)\n",
        "\n",
        "    # Display classification metrics\n",
        "    print(\"\\n=== RandomForest Classifier ===\")\n",
        "    print(\"Classification Report:\\n\", classification_report(y_test, y_pred))\n",
        "    print(f\"Accuracy: {accuracy:.4f}\")\n",
        "    print(f\"F1 Score: {f1:.4f}\")\n",
        "\n",
        "    # Confusion Matrix Visualization\n",
        "    cm = confusion_matrix(y_test, y_pred)\n",
        "    plt.figure(figsize=(6, 4))\n",
        "    sns.heatmap(cm, annot=True, fmt='d', cmap='Blues', xticklabels=['Pred 0', 'Pred 1'], yticklabels=['True 0', 'True 1'])\n",
        "    plt.title('Confusion Matrix - RandomForest')\n",
        "    plt.xlabel('Predicted Label')\n",
        "    plt.ylabel('True Label')\n",
        "    plt.show()\n",
        "\n",
        "# Main function to process the dataset and evaluate the RandomForest model\n",
        "def main(df, target_column):\n",
        "    # Prepare the dataset\n",
        "    X = df.drop(target_column, axis=1)\n",
        "    y = df[target_column]\n",
        "\n",
        "    # Split the dataset\n",
        "    X_train, X_test, y_train, y_test = train_test_split(X, y, test_size=0.3, random_state=42)\n",
        "\n",
        "    # Train and evaluate RandomForest model\n",
        "    evaluate_random_forest(X_train, X_test, y_train, y_test)\n",
        "\n",
        "# Load your dataset and specify the target column\n",
        "if __name__ == \"__main__\":\n",
        "    # Replace with your dataframe\n",
        "    df = df_expression  # Example input dataframe\n",
        "    target_column = 'overall_survival'  # Replace with the actual target column name\n",
        "    main(df, target_column)"
      ],
      "metadata": {
        "id": "ZB7g08Kz6KfA"
      },
      "execution_count": null,
      "outputs": []
    }
  ]
}